{
 "cells": [
  {
   "cell_type": "code",
   "execution_count": 1,
   "metadata": {
    "executionInfo": {
     "elapsed": 1139,
     "status": "ok",
     "timestamp": 1634572848421,
     "user": {
      "displayName": "Iris Hardege",
      "photoUrl": "https://lh3.googleusercontent.com/a/default-user=s64",
      "userId": "04839688462566642023"
     },
     "user_tz": -60
    },
    "id": "_N3Mi0wKy1aG"
   },
   "outputs": [],
   "source": [
    "import h5py\n",
    "import numpy as np\n",
    "import pandas as pd\n",
    "from pathlib import Path\n",
    "import os\n",
    "import matplotlib.pyplot as plt\n",
    "import seaborn as sns"
   ]
  },
  {
   "cell_type": "markdown",
   "metadata": {
    "id": "IfPEwp678wDW"
   },
   "source": [
    "### Import files"
   ]
  },
  {
   "cell_type": "code",
   "execution_count": 2,
   "metadata": {
    "executionInfo": {
     "elapsed": 496,
     "status": "ok",
     "timestamp": 1634572869152,
     "user": {
      "displayName": "Iris Hardege",
      "photoUrl": "https://lh3.googleusercontent.com/a/default-user=s64",
      "userId": "04839688462566642023"
     },
     "user_tz": -60
    },
    "id": "xQbBcvym9TNO"
   },
   "outputs": [],
   "source": [
    "#Import all HDF5 files from a folder. Be careful to be in the filepath, add r'C: to file paths if run in Windows\n",
    "datafolder = Path(r'import_path') \n",
    "df = sorted(list(datafolder.glob('*_featuresN.hdf5')))"
   ]
  },
  {
   "cell_type": "code",
   "execution_count": 3,
   "metadata": {
    "colab": {
     "base_uri": "https://localhost:8080/"
    },
    "executionInfo": {
     "elapsed": 43908,
     "status": "ok",
     "timestamp": 1634572913058,
     "user": {
      "displayName": "Iris Hardege",
      "photoUrl": "https://lh3.googleusercontent.com/a/default-user=s64",
      "userId": "04839688462566642023"
     },
     "user_tz": -60
    },
    "id": "jZnRYINd99iY",
    "outputId": "3097d507-7323-4091-b9bb-b5fdbe974bdc"
   },
   "outputs": [
    {
     "data": {
      "text/plain": [
       "(1649238, 156)"
      ]
     },
     "execution_count": 3,
     "metadata": {},
     "output_type": "execute_result"
    }
   ],
   "source": [
    "#Get timeseries data and assign strain information\n",
    "data_feat = pd.DataFrame() \n",
    "temporary1 = []\n",
    "for iteration, i in enumerate(df): \n",
    "    data = pd.read_hdf(i, 'timeseries_data')\n",
    "    data = data.assign(Path = i)\n",
    "    data = data.assign(File = os.path.basename(i))\n",
    "    a = os.path.basename(i)\n",
    "    data = data.assign(Strain = a[0:7])\n",
    "    temporary1.append(data)\n",
    "data_feat = pd.concat(temporary1, ignore_index = True)\n",
    "data_feat.shape"
   ]
  },
  {
   "cell_type": "code",
   "execution_count": 4,
   "metadata": {
    "colab": {
     "base_uri": "https://localhost:8080/"
    },
    "executionInfo": {
     "elapsed": 2122,
     "status": "ok",
     "timestamp": 1634572915174,
     "user": {
      "displayName": "Iris Hardege",
      "photoUrl": "https://lh3.googleusercontent.com/a/default-user=s64",
      "userId": "04839688462566642023"
     },
     "user_tz": -60
    },
    "id": "VzHvkRQQjSsz",
    "outputId": "348a13f5-6c17-4aa7-8c8c-f145e649e84b"
   },
   "outputs": [
    {
     "data": {
      "text/plain": [
       "(1649238, 16)"
      ]
     },
     "execution_count": 4,
     "metadata": {},
     "output_type": "execute_result"
    }
   ],
   "source": [
    "#Get trajectory data\n",
    "traj = pd.DataFrame()\n",
    "temporary1 = [] \n",
    "for iteration, i in enumerate(df): \n",
    "    data = pd.read_hdf(i, 'trajectories_data')\n",
    "    data = data.assign(File = i)\n",
    "    data = data.assign(File = os.path.basename(i))\n",
    "    temporary1.append(data)\n",
    "traj = pd.concat(temporary1, ignore_index = True)\n",
    "traj.shape #should be same rows as _feat above"
   ]
  },
  {
   "cell_type": "code",
   "execution_count": 9,
   "metadata": {
    "colab": {
     "base_uri": "https://localhost:8080/",
     "height": 204
    },
    "executionInfo": {
     "elapsed": 392,
     "status": "ok",
     "timestamp": 1634572915564,
     "user": {
      "displayName": "Iris Hardege",
      "photoUrl": "https://lh3.googleusercontent.com/a/default-user=s64",
      "userId": "04839688462566642023"
     },
     "user_tz": -60
    },
    "id": "72tP9FrvDPfi",
    "outputId": "60b42138-52b6-4b2b-abb0-c0ae46e3cd29"
   },
   "outputs": [
    {
     "data": {
      "text/html": [
       "<div>\n",
       "<style scoped>\n",
       "    .dataframe tbody tr th:only-of-type {\n",
       "        vertical-align: middle;\n",
       "    }\n",
       "\n",
       "    .dataframe tbody tr th {\n",
       "        vertical-align: top;\n",
       "    }\n",
       "\n",
       "    .dataframe thead th {\n",
       "        text-align: right;\n",
       "    }\n",
       "</style>\n",
       "<table border=\"1\" class=\"dataframe\">\n",
       "  <thead>\n",
       "    <tr style=\"text-align: right;\">\n",
       "      <th></th>\n",
       "      <th>coord_x_midbody</th>\n",
       "      <th>coord_y_midbody</th>\n",
       "      <th>Strain</th>\n",
       "      <th>worm_index</th>\n",
       "      <th>timestamp</th>\n",
       "      <th>File</th>\n",
       "      <th>worm_label</th>\n",
       "    </tr>\n",
       "  </thead>\n",
       "  <tbody>\n",
       "    <tr>\n",
       "      <th>0</th>\n",
       "      <td>22298.847656</td>\n",
       "      <td>29223.300781</td>\n",
       "      <td>N2_LB__</td>\n",
       "      <td>1</td>\n",
       "      <td>0</td>\n",
       "      <td>N2_LB__betA_global_0to5_1_featuresN.hdf5</td>\n",
       "      <td>1</td>\n",
       "    </tr>\n",
       "    <tr>\n",
       "      <th>1</th>\n",
       "      <td>22297.091797</td>\n",
       "      <td>29224.767578</td>\n",
       "      <td>N2_LB__</td>\n",
       "      <td>1</td>\n",
       "      <td>1</td>\n",
       "      <td>N2_LB__betA_global_0to5_1_featuresN.hdf5</td>\n",
       "      <td>1</td>\n",
       "    </tr>\n",
       "    <tr>\n",
       "      <th>2</th>\n",
       "      <td>22292.048828</td>\n",
       "      <td>29229.316406</td>\n",
       "      <td>N2_LB__</td>\n",
       "      <td>1</td>\n",
       "      <td>2</td>\n",
       "      <td>N2_LB__betA_global_0to5_1_featuresN.hdf5</td>\n",
       "      <td>1</td>\n",
       "    </tr>\n",
       "    <tr>\n",
       "      <th>3</th>\n",
       "      <td>22285.226562</td>\n",
       "      <td>29235.910156</td>\n",
       "      <td>N2_LB__</td>\n",
       "      <td>1</td>\n",
       "      <td>3</td>\n",
       "      <td>N2_LB__betA_global_0to5_1_featuresN.hdf5</td>\n",
       "      <td>1</td>\n",
       "    </tr>\n",
       "    <tr>\n",
       "      <th>4</th>\n",
       "      <td>22278.154297</td>\n",
       "      <td>29243.310547</td>\n",
       "      <td>N2_LB__</td>\n",
       "      <td>1</td>\n",
       "      <td>4</td>\n",
       "      <td>N2_LB__betA_global_0to5_1_featuresN.hdf5</td>\n",
       "      <td>1</td>\n",
       "    </tr>\n",
       "  </tbody>\n",
       "</table>\n",
       "</div>"
      ],
      "text/plain": [
       "   coord_x_midbody  coord_y_midbody   Strain  worm_index  timestamp  \\\n",
       "0     22298.847656     29223.300781  N2_LB__           1          0   \n",
       "1     22297.091797     29224.767578  N2_LB__           1          1   \n",
       "2     22292.048828     29229.316406  N2_LB__           1          2   \n",
       "3     22285.226562     29235.910156  N2_LB__           1          3   \n",
       "4     22278.154297     29243.310547  N2_LB__           1          4   \n",
       "\n",
       "                                       File  worm_label  \n",
       "0  N2_LB__betA_global_0to5_1_featuresN.hdf5           1  \n",
       "1  N2_LB__betA_global_0to5_1_featuresN.hdf5           1  \n",
       "2  N2_LB__betA_global_0to5_1_featuresN.hdf5           1  \n",
       "3  N2_LB__betA_global_0to5_1_featuresN.hdf5           1  \n",
       "4  N2_LB__betA_global_0to5_1_featuresN.hdf5           1  "
      ]
     },
     "execution_count": 9,
     "metadata": {},
     "output_type": "execute_result"
    }
   ],
   "source": [
    "#keep only feature(s) you want\n",
    "feat_vars = pd.DataFrame()\n",
    "\n",
    "#choose features\n",
    "feat_vars['coord_x_midbody'] = data_feat['coord_x_midbody']\n",
    "feat_vars['coord_y_midbody'] = data_feat['coord_y_midbody']\n",
    "\n",
    "#basic info needed for analysis from _feat\n",
    "feat_vars['Strain'] = data_feat['Strain']\n",
    "feat_vars['worm_index'] = data_feat['worm_index']\n",
    "feat_vars['timestamp'] = data_feat['timestamp']\n",
    "feat_vars['File'] = data_feat['File']\n",
    "\n",
    "#basic info needed for analysis from _traj\n",
    "feat_vars['worm_label'] = traj['worm_label']\n",
    "\n",
    "feat_vars = feat_vars.astype('int64', errors='ignore')\n",
    "pd.set_option('display.max_colwidth', None)\n",
    "\n",
    "feat_vars.head()"
   ]
  },
  {
   "cell_type": "code",
   "execution_count": 10,
   "metadata": {
    "scrolled": false
   },
   "outputs": [
    {
     "data": {
      "text/plain": [
       "N2_M9__    864135\n",
       "N2_LB__    785103\n",
       "Name: Strain, dtype: int64"
      ]
     },
     "execution_count": 10,
     "metadata": {},
     "output_type": "execute_result"
    }
   ],
   "source": [
    "#how many frames per strain?\n",
    "feat_vars['Strain'].value_counts()"
   ]
  },
  {
   "cell_type": "code",
   "execution_count": 11,
   "metadata": {
    "colab": {
     "base_uri": "https://localhost:8080/"
    },
    "executionInfo": {
     "elapsed": 654,
     "status": "ok",
     "timestamp": 1634572917252,
     "user": {
      "displayName": "Iris Hardege",
      "photoUrl": "https://lh3.googleusercontent.com/a/default-user=s64",
      "userId": "04839688462566642023"
     },
     "user_tz": -60
    },
    "id": "0-QpOEa8lbMC",
    "outputId": "7eaec8b4-7cb7-4ef1-8add-2f941e2f1d6e"
   },
   "outputs": [
    {
     "name": "stderr",
     "output_type": "stream",
     "text": [
      "c:\\ProgramData\\Anaconda3\\lib\\site-packages\\pandas\\core\\frame.py:4308: SettingWithCopyWarning: \n",
      "A value is trying to be set on a copy of a slice from a DataFrame\n",
      "\n",
      "See the caveats in the documentation: https://pandas.pydata.org/pandas-docs/stable/user_guide/indexing.html#returning-a-view-versus-a-copy\n",
      "  return super().drop(\n"
     ]
    },
    {
     "data": {
      "text/html": [
       "<div>\n",
       "<style scoped>\n",
       "    .dataframe tbody tr th:only-of-type {\n",
       "        vertical-align: middle;\n",
       "    }\n",
       "\n",
       "    .dataframe tbody tr th {\n",
       "        vertical-align: top;\n",
       "    }\n",
       "\n",
       "    .dataframe thead th {\n",
       "        text-align: right;\n",
       "    }\n",
       "</style>\n",
       "<table border=\"1\" class=\"dataframe\">\n",
       "  <thead>\n",
       "    <tr style=\"text-align: right;\">\n",
       "      <th></th>\n",
       "      <th>coord_x_midbody</th>\n",
       "      <th>coord_y_midbody</th>\n",
       "      <th>Strain</th>\n",
       "      <th>worm_index</th>\n",
       "      <th>timestamp</th>\n",
       "      <th>File</th>\n",
       "      <th>worm_label</th>\n",
       "    </tr>\n",
       "  </thead>\n",
       "  <tbody>\n",
       "    <tr>\n",
       "      <th>0</th>\n",
       "      <td>22298.847656</td>\n",
       "      <td>29223.300781</td>\n",
       "      <td>N2_LB__</td>\n",
       "      <td>1</td>\n",
       "      <td>0</td>\n",
       "      <td>N2_LB__betA_global_0to5_1_featuresN.hdf5</td>\n",
       "      <td>1</td>\n",
       "    </tr>\n",
       "    <tr>\n",
       "      <th>1</th>\n",
       "      <td>22297.091797</td>\n",
       "      <td>29224.767578</td>\n",
       "      <td>N2_LB__</td>\n",
       "      <td>1</td>\n",
       "      <td>1</td>\n",
       "      <td>N2_LB__betA_global_0to5_1_featuresN.hdf5</td>\n",
       "      <td>1</td>\n",
       "    </tr>\n",
       "    <tr>\n",
       "      <th>2</th>\n",
       "      <td>22292.048828</td>\n",
       "      <td>29229.316406</td>\n",
       "      <td>N2_LB__</td>\n",
       "      <td>1</td>\n",
       "      <td>2</td>\n",
       "      <td>N2_LB__betA_global_0to5_1_featuresN.hdf5</td>\n",
       "      <td>1</td>\n",
       "    </tr>\n",
       "    <tr>\n",
       "      <th>3</th>\n",
       "      <td>22285.226562</td>\n",
       "      <td>29235.910156</td>\n",
       "      <td>N2_LB__</td>\n",
       "      <td>1</td>\n",
       "      <td>3</td>\n",
       "      <td>N2_LB__betA_global_0to5_1_featuresN.hdf5</td>\n",
       "      <td>1</td>\n",
       "    </tr>\n",
       "    <tr>\n",
       "      <th>4</th>\n",
       "      <td>22278.154297</td>\n",
       "      <td>29243.310547</td>\n",
       "      <td>N2_LB__</td>\n",
       "      <td>1</td>\n",
       "      <td>4</td>\n",
       "      <td>N2_LB__betA_global_0to5_1_featuresN.hdf5</td>\n",
       "      <td>1</td>\n",
       "    </tr>\n",
       "  </tbody>\n",
       "</table>\n",
       "</div>"
      ],
      "text/plain": [
       "   coord_x_midbody  coord_y_midbody   Strain  worm_index  timestamp  \\\n",
       "0     22298.847656     29223.300781  N2_LB__           1          0   \n",
       "1     22297.091797     29224.767578  N2_LB__           1          1   \n",
       "2     22292.048828     29229.316406  N2_LB__           1          2   \n",
       "3     22285.226562     29235.910156  N2_LB__           1          3   \n",
       "4     22278.154297     29243.310547  N2_LB__           1          4   \n",
       "\n",
       "                                       File  worm_label  \n",
       "0  N2_LB__betA_global_0to5_1_featuresN.hdf5           1  \n",
       "1  N2_LB__betA_global_0to5_1_featuresN.hdf5           1  \n",
       "2  N2_LB__betA_global_0to5_1_featuresN.hdf5           1  \n",
       "3  N2_LB__betA_global_0to5_1_featuresN.hdf5           1  \n",
       "4  N2_LB__betA_global_0to5_1_featuresN.hdf5           1  "
      ]
     },
     "execution_count": 11,
     "metadata": {},
     "output_type": "execute_result"
    }
   ],
   "source": [
    "#dump all trajectories that are not worms (where worm_label is not 1.0)\n",
    "#note you must have manually assigned worms in tierpsy viewer, otherwise you can ommit this step\n",
    "feat_vars_worms= feat_vars[feat_vars.worm_label == 1.0]\n",
    "feat_vars_worms.reset_index(inplace=True)\n",
    "feat_vars_worms.drop('index', axis=1, inplace=True)\n",
    "feat_vars_worms.head()"
   ]
  },
  {
   "cell_type": "code",
   "execution_count": 12,
   "metadata": {
    "colab": {
     "base_uri": "https://localhost:8080/"
    },
    "executionInfo": {
     "elapsed": 4859,
     "status": "ok",
     "timestamp": 1634572922108,
     "user": {
      "displayName": "Iris Hardege",
      "photoUrl": "https://lh3.googleusercontent.com/a/default-user=s64",
      "userId": "04839688462566642023"
     },
     "user_tz": -60
    },
    "id": "vmHXtJ73ueJl",
    "outputId": "8b168087-8f05-40c8-8081-664ebc29c497"
   },
   "outputs": [
    {
     "name": "stderr",
     "output_type": "stream",
     "text": [
      "<ipython-input-12-b9bca589a284>:2: SettingWithCopyWarning: \n",
      "A value is trying to be set on a copy of a slice from a DataFrame.\n",
      "Try using .loc[row_indexer,col_indexer] = value instead\n",
      "\n",
      "See the caveats in the documentation: https://pandas.pydata.org/pandas-docs/stable/user_guide/indexing.html#returning-a-view-versus-a-copy\n",
      "  feat_vars_worms['unique_worm_index'] = feat_vars_worms['File'] + '_' + feat_vars_worms['worm_index'].astype(str)\n"
     ]
    },
    {
     "data": {
      "text/plain": [
       "(1618250, 8)"
      ]
     },
     "execution_count": 12,
     "metadata": {},
     "output_type": "execute_result"
    }
   ],
   "source": [
    "#make a unique index for each worm 'strain_video_index'\n",
    "feat_vars_worms['unique_worm_index'] = feat_vars_worms['File'] + '_' + feat_vars_worms['worm_index'].astype(str)\n",
    "feat_vars_worms.shape"
   ]
  },
  {
   "cell_type": "code",
   "execution_count": 13,
   "metadata": {
    "scrolled": false
   },
   "outputs": [
    {
     "name": "stderr",
     "output_type": "stream",
     "text": [
      "<ipython-input-13-f523a3be7811>:17: SettingWithCopyWarning: \n",
      "A value is trying to be set on a copy of a slice from a DataFrame.\n",
      "Try using .loc[row_indexer,col_indexer] = value instead\n",
      "\n",
      "See the caveats in the documentation: https://pandas.pydata.org/pandas-docs/stable/user_guide/indexing.html#returning-a-view-versus-a-copy\n",
      "  feat_vars_worms['video_timepoint'] = feat_vars_worms.apply(f, axis=1)\n"
     ]
    },
    {
     "data": {
      "text/html": [
       "<div>\n",
       "<style scoped>\n",
       "    .dataframe tbody tr th:only-of-type {\n",
       "        vertical-align: middle;\n",
       "    }\n",
       "\n",
       "    .dataframe tbody tr th {\n",
       "        vertical-align: top;\n",
       "    }\n",
       "\n",
       "    .dataframe thead th {\n",
       "        text-align: right;\n",
       "    }\n",
       "</style>\n",
       "<table border=\"1\" class=\"dataframe\">\n",
       "  <thead>\n",
       "    <tr style=\"text-align: right;\">\n",
       "      <th></th>\n",
       "      <th>coord_x_midbody</th>\n",
       "      <th>coord_y_midbody</th>\n",
       "      <th>Strain</th>\n",
       "      <th>worm_index</th>\n",
       "      <th>timestamp</th>\n",
       "      <th>File</th>\n",
       "      <th>worm_label</th>\n",
       "      <th>unique_worm_index</th>\n",
       "      <th>video_timepoint</th>\n",
       "    </tr>\n",
       "  </thead>\n",
       "  <tbody>\n",
       "    <tr>\n",
       "      <th>0</th>\n",
       "      <td>22298.847656</td>\n",
       "      <td>29223.300781</td>\n",
       "      <td>N2_LB__</td>\n",
       "      <td>1</td>\n",
       "      <td>0</td>\n",
       "      <td>N2_LB__betA_global_0to5_1_featuresN.hdf5</td>\n",
       "      <td>1</td>\n",
       "      <td>N2_LB__betA_global_0to5_1_featuresN.hdf5_1</td>\n",
       "      <td>5</td>\n",
       "    </tr>\n",
       "    <tr>\n",
       "      <th>1</th>\n",
       "      <td>22297.091797</td>\n",
       "      <td>29224.767578</td>\n",
       "      <td>N2_LB__</td>\n",
       "      <td>1</td>\n",
       "      <td>1</td>\n",
       "      <td>N2_LB__betA_global_0to5_1_featuresN.hdf5</td>\n",
       "      <td>1</td>\n",
       "      <td>N2_LB__betA_global_0to5_1_featuresN.hdf5_1</td>\n",
       "      <td>5</td>\n",
       "    </tr>\n",
       "    <tr>\n",
       "      <th>2</th>\n",
       "      <td>22292.048828</td>\n",
       "      <td>29229.316406</td>\n",
       "      <td>N2_LB__</td>\n",
       "      <td>1</td>\n",
       "      <td>2</td>\n",
       "      <td>N2_LB__betA_global_0to5_1_featuresN.hdf5</td>\n",
       "      <td>1</td>\n",
       "      <td>N2_LB__betA_global_0to5_1_featuresN.hdf5_1</td>\n",
       "      <td>5</td>\n",
       "    </tr>\n",
       "    <tr>\n",
       "      <th>3</th>\n",
       "      <td>22285.226562</td>\n",
       "      <td>29235.910156</td>\n",
       "      <td>N2_LB__</td>\n",
       "      <td>1</td>\n",
       "      <td>3</td>\n",
       "      <td>N2_LB__betA_global_0to5_1_featuresN.hdf5</td>\n",
       "      <td>1</td>\n",
       "      <td>N2_LB__betA_global_0to5_1_featuresN.hdf5_1</td>\n",
       "      <td>5</td>\n",
       "    </tr>\n",
       "    <tr>\n",
       "      <th>4</th>\n",
       "      <td>22278.154297</td>\n",
       "      <td>29243.310547</td>\n",
       "      <td>N2_LB__</td>\n",
       "      <td>1</td>\n",
       "      <td>4</td>\n",
       "      <td>N2_LB__betA_global_0to5_1_featuresN.hdf5</td>\n",
       "      <td>1</td>\n",
       "      <td>N2_LB__betA_global_0to5_1_featuresN.hdf5_1</td>\n",
       "      <td>5</td>\n",
       "    </tr>\n",
       "  </tbody>\n",
       "</table>\n",
       "</div>"
      ],
      "text/plain": [
       "   coord_x_midbody  coord_y_midbody   Strain  worm_index  timestamp  \\\n",
       "0     22298.847656     29223.300781  N2_LB__           1          0   \n",
       "1     22297.091797     29224.767578  N2_LB__           1          1   \n",
       "2     22292.048828     29229.316406  N2_LB__           1          2   \n",
       "3     22285.226562     29235.910156  N2_LB__           1          3   \n",
       "4     22278.154297     29243.310547  N2_LB__           1          4   \n",
       "\n",
       "                                       File  worm_label  \\\n",
       "0  N2_LB__betA_global_0to5_1_featuresN.hdf5           1   \n",
       "1  N2_LB__betA_global_0to5_1_featuresN.hdf5           1   \n",
       "2  N2_LB__betA_global_0to5_1_featuresN.hdf5           1   \n",
       "3  N2_LB__betA_global_0to5_1_featuresN.hdf5           1   \n",
       "4  N2_LB__betA_global_0to5_1_featuresN.hdf5           1   \n",
       "\n",
       "                            unique_worm_index video_timepoint  \n",
       "0  N2_LB__betA_global_0to5_1_featuresN.hdf5_1               5  \n",
       "1  N2_LB__betA_global_0to5_1_featuresN.hdf5_1               5  \n",
       "2  N2_LB__betA_global_0to5_1_featuresN.hdf5_1               5  \n",
       "3  N2_LB__betA_global_0to5_1_featuresN.hdf5_1               5  \n",
       "4  N2_LB__betA_global_0to5_1_featuresN.hdf5_1               5  "
      ]
     },
     "execution_count": 13,
     "metadata": {},
     "output_type": "execute_result"
    }
   ],
   "source": [
    "#map a coloumn for video timepoints (or other varibale if you have one)\n",
    "#in this case timepoint data was encoded within the name of the file\n",
    "def f(row):\n",
    "    if '0to5' in row['File']:\n",
    "        val = '5'\n",
    "    elif '20to25' in row['File']:\n",
    "        val = '25'\n",
    "    elif '40to45' in row['File']:\n",
    "        val = '45'\n",
    "    elif '1h25to1h30' in row['File']:\n",
    "        val = '90'\n",
    "    else:\n",
    "        val = '0'\n",
    "    return val\n",
    "\n",
    "#create new column 'video_timepoint' using the function above\n",
    "feat_vars_worms['video_timepoint'] = feat_vars_worms.apply(f, axis=1)\n",
    "feat_vars_worms.head()\n"
   ]
  },
  {
   "cell_type": "code",
   "execution_count": 241,
   "metadata": {},
   "outputs": [
    {
     "name": "stderr",
     "output_type": "stream",
     "text": [
      "c:\\ProgramData\\Anaconda3\\lib\\site-packages\\pandas\\core\\frame.py:4308: SettingWithCopyWarning: \n",
      "A value is trying to be set on a copy of a slice from a DataFrame\n",
      "\n",
      "See the caveats in the documentation: https://pandas.pydata.org/pandas-docs/stable/user_guide/indexing.html#returning-a-view-versus-a-copy\n",
      "  return super().drop(\n"
     ]
    },
    {
     "data": {
      "text/plain": [
       "(1618250, 9)"
      ]
     },
     "execution_count": 241,
     "metadata": {},
     "output_type": "execute_result"
    }
   ],
   "source": [
    "#use this if you want to crop video length\n",
    "#dump all timestamps over the max video length\n",
    "video_length = 7500 #in frames\n",
    "indexNames = feat_vars_worms[(feat_vars_worms['timestamp'] > video_length)].index\n",
    "feat_vars_worms.drop(indexNames , inplace=True)\n",
    "frames = feat_vars_worms.timestamp.unique()\n",
    "maxframes = frames[-1]\n",
    "print ('max frames:', maxframes)"
   ]
  },
  {
   "cell_type": "code",
   "execution_count": 22,
   "metadata": {},
   "outputs": [
    {
     "data": {
      "text/plain": [
       "[<matplotlib.lines.Line2D at 0x289aaeaaf10>]"
      ]
     },
     "execution_count": 22,
     "metadata": {},
     "output_type": "execute_result"
    },
    {
     "data": {
      "image/png": "[encoded data removed]",
      "text/plain": [
       "<Figure size 576x576 with 1 Axes>"
      ]
     },
     "metadata": {
      "needs_background": "light"
     },
     "output_type": "display_data"
    }
   ],
   "source": [
    "#view an example track\n",
    "test_df = feat_vars_worms.loc[feat_vars_worms.unique_worm_index == 'N2_LB__betA_global_0to5_1_featuresN.hdf5_1'] #select a unique worm id here\n",
    "#plot\n",
    "plt.figure(figsize=(8, 8))\n",
    "plt.plot(test_df['coord_x_midbody'], test_df['coord_y_midbody'])"
   ]
  },
  {
   "cell_type": "code",
   "execution_count": 23,
   "metadata": {
    "scrolled": false
   },
   "outputs": [
    {
     "name": "stderr",
     "output_type": "stream",
     "text": [
      "<ipython-input-23-a91ee0a1a077>:2: SettingWithCopyWarning: \n",
      "A value is trying to be set on a copy of a slice from a DataFrame.\n",
      "Try using .loc[row_indexer,col_indexer] = value instead\n",
      "\n",
      "See the caveats in the documentation: https://pandas.pydata.org/pandas-docs/stable/user_guide/indexing.html#returning-a-view-versus-a-copy\n",
      "  test_df['coord_x_midbody_rol'] = test_df['coord_x_midbody'].rolling(50).mean()\n",
      "<ipython-input-23-a91ee0a1a077>:3: SettingWithCopyWarning: \n",
      "A value is trying to be set on a copy of a slice from a DataFrame.\n",
      "Try using .loc[row_indexer,col_indexer] = value instead\n",
      "\n",
      "See the caveats in the documentation: https://pandas.pydata.org/pandas-docs/stable/user_guide/indexing.html#returning-a-view-versus-a-copy\n",
      "  test_df['coord_y_midbody_rol'] = test_df['coord_y_midbody'].rolling(50).mean()\n"
     ]
    },
    {
     "data": {
      "text/plain": [
       "[<matplotlib.lines.Line2D at 0x289999405e0>]"
      ]
     },
     "execution_count": 23,
     "metadata": {},
     "output_type": "execute_result"
    },
    {
     "data": {
      "image/png": "[encoded data removed]",
      "text/plain": [
       "<Figure size 576x576 with 1 Axes>"
      ]
     },
     "metadata": {
      "needs_background": "light"
     },
     "output_type": "display_data"
    }
   ],
   "source": [
    "#view the same example interpolated and smoothed track\n",
    "test_df['coord_x_midbody_rol'] = test_df['coord_x_midbody'].rolling(50).mean()\n",
    "test_df['coord_y_midbody_rol'] = test_df['coord_y_midbody'].rolling(50).mean()\n",
    "test_df = test_df.interpolate()\n",
    "#plot\n",
    "plt.figure(figsize=(8, 8))\n",
    "plt.plot(test_df['coord_x_midbody_rol'], test_df['coord_y_midbody_rol'])"
   ]
  },
  {
   "cell_type": "code",
   "execution_count": 24,
   "metadata": {},
   "outputs": [
    {
     "data": {
      "text/plain": [
       "[<matplotlib.lines.Line2D at 0x2898f185d00>]"
      ]
     },
     "execution_count": 24,
     "metadata": {},
     "output_type": "execute_result"
    },
    {
     "data": {
      "image/png": "[encoded data removed]",
      "text/plain": [
       "<Figure size 1296x576 with 1 Axes>"
      ]
     },
     "metadata": {
      "needs_background": "light"
     },
     "output_type": "display_data"
    }
   ],
   "source": [
    "#calc curvature for example and plot\n",
    "df_curvature = pd.DataFrame()\n",
    "\n",
    "coordinates = test_df[['coord_x_midbody_rol', 'coord_y_midbody_rol']].to_numpy() \n",
    "\n",
    "x_t = np.gradient(coordinates[:, 0])\n",
    "y_t = np.gradient(coordinates[:, 1])\n",
    "\n",
    "vel = np.array([ [x_t[i], y_t[i]] for i in range(x_t.size)])\n",
    "speed = np.sqrt(x_t * x_t + y_t * y_t)\n",
    "\n",
    "ss_t = np.gradient(speed)\n",
    "xx_t = np.gradient(x_t)\n",
    "yy_t = np.gradient(y_t)\n",
    "\n",
    "curvature_val = np.abs(xx_t * y_t - x_t * yy_t) / (x_t * x_t + y_t * y_t)**1.5\n",
    "\n",
    "df_curvature['curvature'] = curvature_val\n",
    "\n",
    "plt.figure(figsize=(18, 8))\n",
    "plt.ylim(0,2)\n",
    "plt.plot(df_curvature.index, df_curvature['curvature'])"
   ]
  },
  {
   "cell_type": "code",
   "execution_count": 25,
   "metadata": {},
   "outputs": [
    {
     "data": {
      "text/plain": [
       "0    2400\n",
       "1       3\n",
       "Name: reorientation, dtype: int64"
      ]
     },
     "execution_count": 25,
     "metadata": {},
     "output_type": "execute_result"
    }
   ],
   "source": [
    "#count number of reorientations for example 1=reorinetation\n",
    "df_curvature['curv_high'] = np.where(df_curvature['curvature'] >= 0.25, '1', '0')\n",
    "df_curvature['curv_high']=pd.to_numeric(df_curvature['curv_high'])\n",
    "df_curvature['curv_high_diff'] = df_curvature['curv_high'].diff()\n",
    "df_curvature['reorientation'] = np.where((df_curvature['curv_high_diff'] == 1), 1, 0)\n",
    "df_curvature['reorientation'].value_counts()"
   ]
  },
  {
   "cell_type": "code",
   "execution_count": 26,
   "metadata": {},
   "outputs": [
    {
     "name": "stderr",
     "output_type": "stream",
     "text": [
      "<ipython-input-26-5597d606ede6>:39: RuntimeWarning: invalid value encountered in true_divide\n",
      "  curvature_val = np.abs(xx_t * y_t - x_t * yy_t) / (x_t * x_t + y_t * y_t)**1.5\n",
      "<ipython-input-26-5597d606ede6>:39: RuntimeWarning: invalid value encountered in true_divide\n",
      "  curvature_val = np.abs(xx_t * y_t - x_t * yy_t) / (x_t * x_t + y_t * y_t)**1.5\n",
      "<ipython-input-26-5597d606ede6>:39: RuntimeWarning: invalid value encountered in true_divide\n",
      "  curvature_val = np.abs(xx_t * y_t - x_t * yy_t) / (x_t * x_t + y_t * y_t)**1.5\n",
      "<ipython-input-26-5597d606ede6>:39: RuntimeWarning: invalid value encountered in true_divide\n",
      "  curvature_val = np.abs(xx_t * y_t - x_t * yy_t) / (x_t * x_t + y_t * y_t)**1.5\n",
      "<ipython-input-26-5597d606ede6>:39: RuntimeWarning: invalid value encountered in true_divide\n",
      "  curvature_val = np.abs(xx_t * y_t - x_t * yy_t) / (x_t * x_t + y_t * y_t)**1.5\n",
      "<ipython-input-26-5597d606ede6>:39: RuntimeWarning: invalid value encountered in true_divide\n",
      "  curvature_val = np.abs(xx_t * y_t - x_t * yy_t) / (x_t * x_t + y_t * y_t)**1.5\n",
      "<ipython-input-26-5597d606ede6>:39: RuntimeWarning: invalid value encountered in true_divide\n",
      "  curvature_val = np.abs(xx_t * y_t - x_t * yy_t) / (x_t * x_t + y_t * y_t)**1.5\n",
      "<ipython-input-26-5597d606ede6>:39: RuntimeWarning: invalid value encountered in true_divide\n",
      "  curvature_val = np.abs(xx_t * y_t - x_t * yy_t) / (x_t * x_t + y_t * y_t)**1.5\n",
      "<ipython-input-26-5597d606ede6>:39: RuntimeWarning: invalid value encountered in true_divide\n",
      "  curvature_val = np.abs(xx_t * y_t - x_t * yy_t) / (x_t * x_t + y_t * y_t)**1.5\n",
      "<ipython-input-26-5597d606ede6>:39: RuntimeWarning: invalid value encountered in true_divide\n",
      "  curvature_val = np.abs(xx_t * y_t - x_t * yy_t) / (x_t * x_t + y_t * y_t)**1.5\n",
      "<ipython-input-26-5597d606ede6>:39: RuntimeWarning: invalid value encountered in true_divide\n",
      "  curvature_val = np.abs(xx_t * y_t - x_t * yy_t) / (x_t * x_t + y_t * y_t)**1.5\n",
      "<ipython-input-26-5597d606ede6>:39: RuntimeWarning: invalid value encountered in true_divide\n",
      "  curvature_val = np.abs(xx_t * y_t - x_t * yy_t) / (x_t * x_t + y_t * y_t)**1.5\n",
      "<ipython-input-26-5597d606ede6>:39: RuntimeWarning: invalid value encountered in true_divide\n",
      "  curvature_val = np.abs(xx_t * y_t - x_t * yy_t) / (x_t * x_t + y_t * y_t)**1.5\n",
      "<ipython-input-26-5597d606ede6>:39: RuntimeWarning: invalid value encountered in true_divide\n",
      "  curvature_val = np.abs(xx_t * y_t - x_t * yy_t) / (x_t * x_t + y_t * y_t)**1.5\n",
      "<ipython-input-26-5597d606ede6>:39: RuntimeWarning: invalid value encountered in true_divide\n",
      "  curvature_val = np.abs(xx_t * y_t - x_t * yy_t) / (x_t * x_t + y_t * y_t)**1.5\n",
      "<ipython-input-26-5597d606ede6>:39: RuntimeWarning: invalid value encountered in true_divide\n",
      "  curvature_val = np.abs(xx_t * y_t - x_t * yy_t) / (x_t * x_t + y_t * y_t)**1.5\n",
      "<ipython-input-26-5597d606ede6>:39: RuntimeWarning: invalid value encountered in true_divide\n",
      "  curvature_val = np.abs(xx_t * y_t - x_t * yy_t) / (x_t * x_t + y_t * y_t)**1.5\n",
      "<ipython-input-26-5597d606ede6>:39: RuntimeWarning: invalid value encountered in true_divide\n",
      "  curvature_val = np.abs(xx_t * y_t - x_t * yy_t) / (x_t * x_t + y_t * y_t)**1.5\n",
      "<ipython-input-26-5597d606ede6>:39: RuntimeWarning: invalid value encountered in true_divide\n",
      "  curvature_val = np.abs(xx_t * y_t - x_t * yy_t) / (x_t * x_t + y_t * y_t)**1.5\n",
      "<ipython-input-26-5597d606ede6>:39: RuntimeWarning: invalid value encountered in true_divide\n",
      "  curvature_val = np.abs(xx_t * y_t - x_t * yy_t) / (x_t * x_t + y_t * y_t)**1.5\n",
      "<ipython-input-26-5597d606ede6>:39: RuntimeWarning: invalid value encountered in true_divide\n",
      "  curvature_val = np.abs(xx_t * y_t - x_t * yy_t) / (x_t * x_t + y_t * y_t)**1.5\n",
      "<ipython-input-26-5597d606ede6>:39: RuntimeWarning: invalid value encountered in true_divide\n",
      "  curvature_val = np.abs(xx_t * y_t - x_t * yy_t) / (x_t * x_t + y_t * y_t)**1.5\n",
      "<ipython-input-26-5597d606ede6>:39: RuntimeWarning: invalid value encountered in true_divide\n",
      "  curvature_val = np.abs(xx_t * y_t - x_t * yy_t) / (x_t * x_t + y_t * y_t)**1.5\n",
      "<ipython-input-26-5597d606ede6>:39: RuntimeWarning: invalid value encountered in true_divide\n",
      "  curvature_val = np.abs(xx_t * y_t - x_t * yy_t) / (x_t * x_t + y_t * y_t)**1.5\n",
      "<ipython-input-26-5597d606ede6>:39: RuntimeWarning: invalid value encountered in true_divide\n",
      "  curvature_val = np.abs(xx_t * y_t - x_t * yy_t) / (x_t * x_t + y_t * y_t)**1.5\n",
      "<ipython-input-26-5597d606ede6>:39: RuntimeWarning: invalid value encountered in true_divide\n",
      "  curvature_val = np.abs(xx_t * y_t - x_t * yy_t) / (x_t * x_t + y_t * y_t)**1.5\n",
      "<ipython-input-26-5597d606ede6>:39: RuntimeWarning: invalid value encountered in true_divide\n",
      "  curvature_val = np.abs(xx_t * y_t - x_t * yy_t) / (x_t * x_t + y_t * y_t)**1.5\n",
      "<ipython-input-26-5597d606ede6>:39: RuntimeWarning: invalid value encountered in true_divide\n",
      "  curvature_val = np.abs(xx_t * y_t - x_t * yy_t) / (x_t * x_t + y_t * y_t)**1.5\n",
      "<ipython-input-26-5597d606ede6>:39: RuntimeWarning: invalid value encountered in true_divide\n",
      "  curvature_val = np.abs(xx_t * y_t - x_t * yy_t) / (x_t * x_t + y_t * y_t)**1.5\n",
      "<ipython-input-26-5597d606ede6>:39: RuntimeWarning: invalid value encountered in true_divide\n",
      "  curvature_val = np.abs(xx_t * y_t - x_t * yy_t) / (x_t * x_t + y_t * y_t)**1.5\n",
      "<ipython-input-26-5597d606ede6>:39: RuntimeWarning: invalid value encountered in true_divide\n",
      "  curvature_val = np.abs(xx_t * y_t - x_t * yy_t) / (x_t * x_t + y_t * y_t)**1.5\n",
      "<ipython-input-26-5597d606ede6>:39: RuntimeWarning: invalid value encountered in true_divide\n",
      "  curvature_val = np.abs(xx_t * y_t - x_t * yy_t) / (x_t * x_t + y_t * y_t)**1.5\n",
      "<ipython-input-26-5597d606ede6>:39: RuntimeWarning: invalid value encountered in true_divide\n",
      "  curvature_val = np.abs(xx_t * y_t - x_t * yy_t) / (x_t * x_t + y_t * y_t)**1.5\n",
      "<ipython-input-26-5597d606ede6>:39: RuntimeWarning: invalid value encountered in true_divide\n",
      "  curvature_val = np.abs(xx_t * y_t - x_t * yy_t) / (x_t * x_t + y_t * y_t)**1.5\n",
      "<ipython-input-26-5597d606ede6>:39: RuntimeWarning: invalid value encountered in true_divide\n",
      "  curvature_val = np.abs(xx_t * y_t - x_t * yy_t) / (x_t * x_t + y_t * y_t)**1.5\n",
      "<ipython-input-26-5597d606ede6>:39: RuntimeWarning: invalid value encountered in true_divide\n",
      "  curvature_val = np.abs(xx_t * y_t - x_t * yy_t) / (x_t * x_t + y_t * y_t)**1.5\n",
      "<ipython-input-26-5597d606ede6>:39: RuntimeWarning: invalid value encountered in true_divide\n",
      "  curvature_val = np.abs(xx_t * y_t - x_t * yy_t) / (x_t * x_t + y_t * y_t)**1.5\n",
      "<ipython-input-26-5597d606ede6>:39: RuntimeWarning: invalid value encountered in true_divide\n",
      "  curvature_val = np.abs(xx_t * y_t - x_t * yy_t) / (x_t * x_t + y_t * y_t)**1.5\n",
      "<ipython-input-26-5597d606ede6>:39: RuntimeWarning: invalid value encountered in true_divide\n",
      "  curvature_val = np.abs(xx_t * y_t - x_t * yy_t) / (x_t * x_t + y_t * y_t)**1.5\n",
      "<ipython-input-26-5597d606ede6>:39: RuntimeWarning: invalid value encountered in true_divide\n",
      "  curvature_val = np.abs(xx_t * y_t - x_t * yy_t) / (x_t * x_t + y_t * y_t)**1.5\n",
      "<ipython-input-26-5597d606ede6>:39: RuntimeWarning: invalid value encountered in true_divide\n",
      "  curvature_val = np.abs(xx_t * y_t - x_t * yy_t) / (x_t * x_t + y_t * y_t)**1.5\n",
      "<ipython-input-26-5597d606ede6>:39: RuntimeWarning: invalid value encountered in true_divide\n",
      "  curvature_val = np.abs(xx_t * y_t - x_t * yy_t) / (x_t * x_t + y_t * y_t)**1.5\n",
      "<ipython-input-26-5597d606ede6>:39: RuntimeWarning: invalid value encountered in true_divide\n",
      "  curvature_val = np.abs(xx_t * y_t - x_t * yy_t) / (x_t * x_t + y_t * y_t)**1.5\n",
      "<ipython-input-26-5597d606ede6>:39: RuntimeWarning: invalid value encountered in true_divide\n",
      "  curvature_val = np.abs(xx_t * y_t - x_t * yy_t) / (x_t * x_t + y_t * y_t)**1.5\n",
      "<ipython-input-26-5597d606ede6>:39: RuntimeWarning: invalid value encountered in true_divide\n",
      "  curvature_val = np.abs(xx_t * y_t - x_t * yy_t) / (x_t * x_t + y_t * y_t)**1.5\n",
      "<ipython-input-26-5597d606ede6>:39: RuntimeWarning: invalid value encountered in true_divide\n",
      "  curvature_val = np.abs(xx_t * y_t - x_t * yy_t) / (x_t * x_t + y_t * y_t)**1.5\n",
      "<ipython-input-26-5597d606ede6>:39: RuntimeWarning: invalid value encountered in true_divide\n",
      "  curvature_val = np.abs(xx_t * y_t - x_t * yy_t) / (x_t * x_t + y_t * y_t)**1.5\n",
      "<ipython-input-26-5597d606ede6>:39: RuntimeWarning: invalid value encountered in true_divide\n",
      "  curvature_val = np.abs(xx_t * y_t - x_t * yy_t) / (x_t * x_t + y_t * y_t)**1.5\n",
      "<ipython-input-26-5597d606ede6>:39: RuntimeWarning: invalid value encountered in true_divide\n",
      "  curvature_val = np.abs(xx_t * y_t - x_t * yy_t) / (x_t * x_t + y_t * y_t)**1.5\n",
      "<ipython-input-26-5597d606ede6>:39: RuntimeWarning: invalid value encountered in true_divide\n",
      "  curvature_val = np.abs(xx_t * y_t - x_t * yy_t) / (x_t * x_t + y_t * y_t)**1.5\n",
      "<ipython-input-26-5597d606ede6>:39: RuntimeWarning: invalid value encountered in true_divide\n",
      "  curvature_val = np.abs(xx_t * y_t - x_t * yy_t) / (x_t * x_t + y_t * y_t)**1.5\n",
      "<ipython-input-26-5597d606ede6>:39: RuntimeWarning: invalid value encountered in true_divide\n",
      "  curvature_val = np.abs(xx_t * y_t - x_t * yy_t) / (x_t * x_t + y_t * y_t)**1.5\n",
      "<ipython-input-26-5597d606ede6>:39: RuntimeWarning: invalid value encountered in true_divide\n",
      "  curvature_val = np.abs(xx_t * y_t - x_t * yy_t) / (x_t * x_t + y_t * y_t)**1.5\n",
      "<ipython-input-26-5597d606ede6>:39: RuntimeWarning: invalid value encountered in true_divide\n",
      "  curvature_val = np.abs(xx_t * y_t - x_t * yy_t) / (x_t * x_t + y_t * y_t)**1.5\n",
      "<ipython-input-26-5597d606ede6>:39: RuntimeWarning: invalid value encountered in true_divide\n",
      "  curvature_val = np.abs(xx_t * y_t - x_t * yy_t) / (x_t * x_t + y_t * y_t)**1.5\n",
      "<ipython-input-26-5597d606ede6>:39: RuntimeWarning: invalid value encountered in true_divide\n",
      "  curvature_val = np.abs(xx_t * y_t - x_t * yy_t) / (x_t * x_t + y_t * y_t)**1.5\n",
      "<ipython-input-26-5597d606ede6>:39: RuntimeWarning: invalid value encountered in true_divide\n",
      "  curvature_val = np.abs(xx_t * y_t - x_t * yy_t) / (x_t * x_t + y_t * y_t)**1.5\n",
      "<ipython-input-26-5597d606ede6>:39: RuntimeWarning: invalid value encountered in true_divide\n",
      "  curvature_val = np.abs(xx_t * y_t - x_t * yy_t) / (x_t * x_t + y_t * y_t)**1.5\n",
      "<ipython-input-26-5597d606ede6>:39: RuntimeWarning: invalid value encountered in true_divide\n",
      "  curvature_val = np.abs(xx_t * y_t - x_t * yy_t) / (x_t * x_t + y_t * y_t)**1.5\n",
      "<ipython-input-26-5597d606ede6>:39: RuntimeWarning: invalid value encountered in true_divide\n",
      "  curvature_val = np.abs(xx_t * y_t - x_t * yy_t) / (x_t * x_t + y_t * y_t)**1.5\n",
      "<ipython-input-26-5597d606ede6>:39: RuntimeWarning: invalid value encountered in true_divide\n",
      "  curvature_val = np.abs(xx_t * y_t - x_t * yy_t) / (x_t * x_t + y_t * y_t)**1.5\n",
      "<ipython-input-26-5597d606ede6>:39: RuntimeWarning: invalid value encountered in true_divide\n",
      "  curvature_val = np.abs(xx_t * y_t - x_t * yy_t) / (x_t * x_t + y_t * y_t)**1.5\n",
      "<ipython-input-26-5597d606ede6>:39: RuntimeWarning: invalid value encountered in true_divide\n",
      "  curvature_val = np.abs(xx_t * y_t - x_t * yy_t) / (x_t * x_t + y_t * y_t)**1.5\n",
      "<ipython-input-26-5597d606ede6>:39: RuntimeWarning: invalid value encountered in true_divide\n",
      "  curvature_val = np.abs(xx_t * y_t - x_t * yy_t) / (x_t * x_t + y_t * y_t)**1.5\n",
      "<ipython-input-26-5597d606ede6>:39: RuntimeWarning: invalid value encountered in true_divide\n",
      "  curvature_val = np.abs(xx_t * y_t - x_t * yy_t) / (x_t * x_t + y_t * y_t)**1.5\n",
      "<ipython-input-26-5597d606ede6>:39: RuntimeWarning: invalid value encountered in true_divide\n",
      "  curvature_val = np.abs(xx_t * y_t - x_t * yy_t) / (x_t * x_t + y_t * y_t)**1.5\n",
      "<ipython-input-26-5597d606ede6>:39: RuntimeWarning: invalid value encountered in true_divide\n",
      "  curvature_val = np.abs(xx_t * y_t - x_t * yy_t) / (x_t * x_t + y_t * y_t)**1.5\n",
      "<ipython-input-26-5597d606ede6>:39: RuntimeWarning: invalid value encountered in true_divide\n",
      "  curvature_val = np.abs(xx_t * y_t - x_t * yy_t) / (x_t * x_t + y_t * y_t)**1.5\n",
      "<ipython-input-26-5597d606ede6>:39: RuntimeWarning: invalid value encountered in true_divide\n",
      "  curvature_val = np.abs(xx_t * y_t - x_t * yy_t) / (x_t * x_t + y_t * y_t)**1.5\n",
      "<ipython-input-26-5597d606ede6>:39: RuntimeWarning: invalid value encountered in true_divide\n",
      "  curvature_val = np.abs(xx_t * y_t - x_t * yy_t) / (x_t * x_t + y_t * y_t)**1.5\n",
      "<ipython-input-26-5597d606ede6>:39: RuntimeWarning: invalid value encountered in true_divide\n",
      "  curvature_val = np.abs(xx_t * y_t - x_t * yy_t) / (x_t * x_t + y_t * y_t)**1.5\n",
      "<ipython-input-26-5597d606ede6>:39: RuntimeWarning: invalid value encountered in true_divide\n",
      "  curvature_val = np.abs(xx_t * y_t - x_t * yy_t) / (x_t * x_t + y_t * y_t)**1.5\n",
      "<ipython-input-26-5597d606ede6>:39: RuntimeWarning: invalid value encountered in true_divide\n",
      "  curvature_val = np.abs(xx_t * y_t - x_t * yy_t) / (x_t * x_t + y_t * y_t)**1.5\n",
      "<ipython-input-26-5597d606ede6>:39: RuntimeWarning: invalid value encountered in true_divide\n",
      "  curvature_val = np.abs(xx_t * y_t - x_t * yy_t) / (x_t * x_t + y_t * y_t)**1.5\n",
      "<ipython-input-26-5597d606ede6>:39: RuntimeWarning: invalid value encountered in true_divide\n",
      "  curvature_val = np.abs(xx_t * y_t - x_t * yy_t) / (x_t * x_t + y_t * y_t)**1.5\n",
      "<ipython-input-26-5597d606ede6>:39: RuntimeWarning: invalid value encountered in true_divide\n",
      "  curvature_val = np.abs(xx_t * y_t - x_t * yy_t) / (x_t * x_t + y_t * y_t)**1.5\n",
      "<ipython-input-26-5597d606ede6>:39: RuntimeWarning: invalid value encountered in true_divide\n",
      "  curvature_val = np.abs(xx_t * y_t - x_t * yy_t) / (x_t * x_t + y_t * y_t)**1.5\n",
      "<ipython-input-26-5597d606ede6>:39: RuntimeWarning: invalid value encountered in true_divide\n",
      "  curvature_val = np.abs(xx_t * y_t - x_t * yy_t) / (x_t * x_t + y_t * y_t)**1.5\n",
      "<ipython-input-26-5597d606ede6>:39: RuntimeWarning: invalid value encountered in true_divide\n",
      "  curvature_val = np.abs(xx_t * y_t - x_t * yy_t) / (x_t * x_t + y_t * y_t)**1.5\n",
      "<ipython-input-26-5597d606ede6>:39: RuntimeWarning: invalid value encountered in true_divide\n",
      "  curvature_val = np.abs(xx_t * y_t - x_t * yy_t) / (x_t * x_t + y_t * y_t)**1.5\n",
      "<ipython-input-26-5597d606ede6>:39: RuntimeWarning: invalid value encountered in true_divide\n",
      "  curvature_val = np.abs(xx_t * y_t - x_t * yy_t) / (x_t * x_t + y_t * y_t)**1.5\n",
      "<ipython-input-26-5597d606ede6>:39: RuntimeWarning: invalid value encountered in true_divide\n",
      "  curvature_val = np.abs(xx_t * y_t - x_t * yy_t) / (x_t * x_t + y_t * y_t)**1.5\n",
      "<ipython-input-26-5597d606ede6>:39: RuntimeWarning: invalid value encountered in true_divide\n",
      "  curvature_val = np.abs(xx_t * y_t - x_t * yy_t) / (x_t * x_t + y_t * y_t)**1.5\n",
      "<ipython-input-26-5597d606ede6>:39: RuntimeWarning: invalid value encountered in true_divide\n",
      "  curvature_val = np.abs(xx_t * y_t - x_t * yy_t) / (x_t * x_t + y_t * y_t)**1.5\n",
      "<ipython-input-26-5597d606ede6>:39: RuntimeWarning: invalid value encountered in true_divide\n",
      "  curvature_val = np.abs(xx_t * y_t - x_t * yy_t) / (x_t * x_t + y_t * y_t)**1.5\n",
      "<ipython-input-26-5597d606ede6>:39: RuntimeWarning: invalid value encountered in true_divide\n",
      "  curvature_val = np.abs(xx_t * y_t - x_t * yy_t) / (x_t * x_t + y_t * y_t)**1.5\n",
      "<ipython-input-26-5597d606ede6>:39: RuntimeWarning: invalid value encountered in true_divide\n",
      "  curvature_val = np.abs(xx_t * y_t - x_t * yy_t) / (x_t * x_t + y_t * y_t)**1.5\n",
      "<ipython-input-26-5597d606ede6>:39: RuntimeWarning: invalid value encountered in true_divide\n",
      "  curvature_val = np.abs(xx_t * y_t - x_t * yy_t) / (x_t * x_t + y_t * y_t)**1.5\n",
      "<ipython-input-26-5597d606ede6>:39: RuntimeWarning: invalid value encountered in true_divide\n",
      "  curvature_val = np.abs(xx_t * y_t - x_t * yy_t) / (x_t * x_t + y_t * y_t)**1.5\n",
      "<ipython-input-26-5597d606ede6>:39: RuntimeWarning: invalid value encountered in true_divide\n",
      "  curvature_val = np.abs(xx_t * y_t - x_t * yy_t) / (x_t * x_t + y_t * y_t)**1.5\n",
      "<ipython-input-26-5597d606ede6>:39: RuntimeWarning: invalid value encountered in true_divide\n",
      "  curvature_val = np.abs(xx_t * y_t - x_t * yy_t) / (x_t * x_t + y_t * y_t)**1.5\n",
      "<ipython-input-26-5597d606ede6>:39: RuntimeWarning: invalid value encountered in true_divide\n",
      "  curvature_val = np.abs(xx_t * y_t - x_t * yy_t) / (x_t * x_t + y_t * y_t)**1.5\n",
      "<ipython-input-26-5597d606ede6>:39: RuntimeWarning: invalid value encountered in true_divide\n",
      "  curvature_val = np.abs(xx_t * y_t - x_t * yy_t) / (x_t * x_t + y_t * y_t)**1.5\n",
      "<ipython-input-26-5597d606ede6>:39: RuntimeWarning: invalid value encountered in true_divide\n",
      "  curvature_val = np.abs(xx_t * y_t - x_t * yy_t) / (x_t * x_t + y_t * y_t)**1.5\n",
      "<ipython-input-26-5597d606ede6>:39: RuntimeWarning: invalid value encountered in true_divide\n",
      "  curvature_val = np.abs(xx_t * y_t - x_t * yy_t) / (x_t * x_t + y_t * y_t)**1.5\n",
      "<ipython-input-26-5597d606ede6>:39: RuntimeWarning: invalid value encountered in true_divide\n",
      "  curvature_val = np.abs(xx_t * y_t - x_t * yy_t) / (x_t * x_t + y_t * y_t)**1.5\n",
      "<ipython-input-26-5597d606ede6>:39: RuntimeWarning: invalid value encountered in true_divide\n",
      "  curvature_val = np.abs(xx_t * y_t - x_t * yy_t) / (x_t * x_t + y_t * y_t)**1.5\n",
      "<ipython-input-26-5597d606ede6>:39: RuntimeWarning: invalid value encountered in true_divide\n",
      "  curvature_val = np.abs(xx_t * y_t - x_t * yy_t) / (x_t * x_t + y_t * y_t)**1.5\n",
      "<ipython-input-26-5597d606ede6>:39: RuntimeWarning: invalid value encountered in true_divide\n",
      "  curvature_val = np.abs(xx_t * y_t - x_t * yy_t) / (x_t * x_t + y_t * y_t)**1.5\n",
      "<ipython-input-26-5597d606ede6>:39: RuntimeWarning: invalid value encountered in true_divide\n",
      "  curvature_val = np.abs(xx_t * y_t - x_t * yy_t) / (x_t * x_t + y_t * y_t)**1.5\n",
      "<ipython-input-26-5597d606ede6>:39: RuntimeWarning: invalid value encountered in true_divide\n",
      "  curvature_val = np.abs(xx_t * y_t - x_t * yy_t) / (x_t * x_t + y_t * y_t)**1.5\n",
      "<ipython-input-26-5597d606ede6>:39: RuntimeWarning: invalid value encountered in true_divide\n",
      "  curvature_val = np.abs(xx_t * y_t - x_t * yy_t) / (x_t * x_t + y_t * y_t)**1.5\n",
      "<ipython-input-26-5597d606ede6>:39: RuntimeWarning: invalid value encountered in true_divide\n",
      "  curvature_val = np.abs(xx_t * y_t - x_t * yy_t) / (x_t * x_t + y_t * y_t)**1.5\n"
     ]
    },
    {
     "data": {
      "text/html": [
       "<div>\n",
       "<style scoped>\n",
       "    .dataframe tbody tr th:only-of-type {\n",
       "        vertical-align: middle;\n",
       "    }\n",
       "\n",
       "    .dataframe tbody tr th {\n",
       "        vertical-align: top;\n",
       "    }\n",
       "\n",
       "    .dataframe thead th {\n",
       "        text-align: right;\n",
       "    }\n",
       "</style>\n",
       "<table border=\"1\" class=\"dataframe\">\n",
       "  <thead>\n",
       "    <tr style=\"text-align: right;\">\n",
       "      <th></th>\n",
       "      <th>unique_worm_index</th>\n",
       "      <th>reorientations</th>\n",
       "      <th>path_time</th>\n",
       "      <th>reorientations_per_min</th>\n",
       "    </tr>\n",
       "  </thead>\n",
       "  <tbody>\n",
       "    <tr>\n",
       "      <th>0</th>\n",
       "      <td>N2_LB__betA_global_0to5_1_featuresN.hdf5_1</td>\n",
       "      <td>3</td>\n",
       "      <td>2403</td>\n",
       "      <td>1.872659</td>\n",
       "    </tr>\n",
       "    <tr>\n",
       "      <th>1</th>\n",
       "      <td>N2_LB__betA_global_0to5_1_featuresN.hdf5_2</td>\n",
       "      <td>4</td>\n",
       "      <td>3104</td>\n",
       "      <td>1.932990</td>\n",
       "    </tr>\n",
       "    <tr>\n",
       "      <th>2</th>\n",
       "      <td>N2_LB__betA_global_0to5_1_featuresN.hdf5_3</td>\n",
       "      <td>20</td>\n",
       "      <td>7439</td>\n",
       "      <td>4.032800</td>\n",
       "    </tr>\n",
       "    <tr>\n",
       "      <th>3</th>\n",
       "      <td>N2_LB__betA_global_0to5_1_featuresN.hdf5_4</td>\n",
       "      <td>7</td>\n",
       "      <td>3020</td>\n",
       "      <td>3.476821</td>\n",
       "    </tr>\n",
       "    <tr>\n",
       "      <th>4</th>\n",
       "      <td>N2_LB__betA_global_0to5_1_featuresN.hdf5_5</td>\n",
       "      <td>9</td>\n",
       "      <td>4678</td>\n",
       "      <td>2.885849</td>\n",
       "    </tr>\n",
       "  </tbody>\n",
       "</table>\n",
       "</div>"
      ],
      "text/plain": [
       "                            unique_worm_index  reorientations  path_time  \\\n",
       "0  N2_LB__betA_global_0to5_1_featuresN.hdf5_1               3       2403   \n",
       "1  N2_LB__betA_global_0to5_1_featuresN.hdf5_2               4       3104   \n",
       "2  N2_LB__betA_global_0to5_1_featuresN.hdf5_3              20       7439   \n",
       "3  N2_LB__betA_global_0to5_1_featuresN.hdf5_4               7       3020   \n",
       "4  N2_LB__betA_global_0to5_1_featuresN.hdf5_5               9       4678   \n",
       "\n",
       "   reorientations_per_min  \n",
       "0                1.872659  \n",
       "1                1.932990  \n",
       "2                4.032800  \n",
       "3                3.476821  \n",
       "4                2.885849  "
      ]
     },
     "execution_count": 26,
     "metadata": {},
     "output_type": "execute_result"
    }
   ],
   "source": [
    "#apply to all data\n",
    "framerate = 25\n",
    "min_length = 30 * framerate #number is in seconds\n",
    "window = 50 #rolling mean window size in frames \n",
    "\n",
    "#get list of unique IDs\n",
    "worm_list = feat_vars_worms.unique_worm_index.unique()\n",
    "\n",
    "#set up lists and dfs\n",
    "curv_data_raw = pd.DataFrame()\n",
    "curv_data = pd.DataFrame()\n",
    "reorientations = []\n",
    "unique_worm_index = []\n",
    "path_time = []\n",
    "maxtime = []\n",
    "\n",
    "#find peaks\n",
    "for worm in worm_list:\n",
    "    current_worm = feat_vars_worms.loc[feat_vars_worms.unique_worm_index == worm]\n",
    "    current_worm = current_worm.loc[:,['timestamp', 'coord_x_midbody', 'coord_y_midbody']]\n",
    "\n",
    "    current_worm.reset_index(inplace=True)\n",
    "    current_worm = current_worm.drop(columns = ['index'])\n",
    "    current_worm.reset_index(inplace=True)\n",
    "    current_worm = current_worm.rename(columns = {'index':'time_norm'})\n",
    "    \n",
    "    if len(current_worm) >= min_length:\n",
    "        current_worm['coord_x_midbody_rol'] = current_worm['coord_x_midbody'].rolling(window).mean()\n",
    "        current_worm['coord_y_midbody_rol'] = current_worm['coord_y_midbody'].rolling(window).mean()\n",
    "        current_worm = current_worm.interpolate()\n",
    "        coordinates = current_worm[['coord_x_midbody_rol', 'coord_y_midbody_rol']].to_numpy() \n",
    "        x_t = np.gradient(coordinates[:, 0])\n",
    "        y_t = np.gradient(coordinates[:, 1])\n",
    "        vel = np.array([ [x_t[i], y_t[i]] for i in range(x_t.size)])\n",
    "        speed = np.sqrt(x_t * x_t + y_t * y_t)\n",
    "        ss_t = np.gradient(speed)\n",
    "        xx_t = np.gradient(x_t)\n",
    "        yy_t = np.gradient(y_t)\n",
    "        curvature_val = np.abs(xx_t * y_t - x_t * yy_t) / (x_t * x_t + y_t * y_t)**1.5\n",
    "\n",
    "        #get time of track\n",
    "        maxtime = len(current_worm)\n",
    "\n",
    "        #raw data\n",
    "        curv_data_raw = pd.DataFrame(curvature_val, columns=[\"curv\"])\n",
    "        curv_data_raw['curv_high'] = np.where(curv_data_raw[\"curv\"] >= 0.25, '1', '0')\n",
    "        curv_data_raw['curv_high']=pd.to_numeric(curv_data_raw['curv_high'])\n",
    "        curv_data_raw['curv_high_diff'] = curv_data_raw['curv_high'].diff()\n",
    "        curv_data_raw['reorientation'] = np.where((curv_data_raw['curv_high_diff'] == 1), 1, 0)  \n",
    "        no_turns = curv_data_raw['reorientation'].sum()\n",
    "\n",
    "        #for summary\n",
    "        unique_worm_index.append(worm)\n",
    "        reorientations.append(no_turns)\n",
    "        path_time.append(maxtime)\n",
    "\n",
    "curv_data['unique_worm_index'] = unique_worm_index\n",
    "curv_data['reorientations'] = reorientations\n",
    "curv_data['path_time'] = path_time\n",
    "curv_data['reorientations_per_min'] = curv_data['reorientations'] / (curv_data['path_time']/framerate/60)\n",
    "\n",
    "curv_data.head()"
   ]
  },
  {
   "cell_type": "code",
   "execution_count": 28,
   "metadata": {},
   "outputs": [
    {
     "data": {
      "text/html": [
       "<div>\n",
       "<style scoped>\n",
       "    .dataframe tbody tr th:only-of-type {\n",
       "        vertical-align: middle;\n",
       "    }\n",
       "\n",
       "    .dataframe tbody tr th {\n",
       "        vertical-align: top;\n",
       "    }\n",
       "\n",
       "    .dataframe thead th {\n",
       "        text-align: right;\n",
       "    }\n",
       "</style>\n",
       "<table border=\"1\" class=\"dataframe\">\n",
       "  <thead>\n",
       "    <tr style=\"text-align: right;\">\n",
       "      <th></th>\n",
       "      <th>unique_worm_index</th>\n",
       "      <th>reorientations</th>\n",
       "      <th>path_time</th>\n",
       "      <th>reorientations_per_min</th>\n",
       "      <th>video_timepoint</th>\n",
       "      <th>Strain</th>\n",
       "    </tr>\n",
       "  </thead>\n",
       "  <tbody>\n",
       "    <tr>\n",
       "      <th>0</th>\n",
       "      <td>N2_LB__betA_global_0to5_1_featuresN.hdf5_1</td>\n",
       "      <td>3</td>\n",
       "      <td>2403</td>\n",
       "      <td>1.872659</td>\n",
       "      <td>5</td>\n",
       "      <td>N2_LB__</td>\n",
       "    </tr>\n",
       "    <tr>\n",
       "      <th>1</th>\n",
       "      <td>N2_LB__betA_global_0to5_1_featuresN.hdf5_2</td>\n",
       "      <td>4</td>\n",
       "      <td>3104</td>\n",
       "      <td>1.932990</td>\n",
       "      <td>5</td>\n",
       "      <td>N2_LB__</td>\n",
       "    </tr>\n",
       "    <tr>\n",
       "      <th>2</th>\n",
       "      <td>N2_LB__betA_global_0to5_1_featuresN.hdf5_3</td>\n",
       "      <td>20</td>\n",
       "      <td>7439</td>\n",
       "      <td>4.032800</td>\n",
       "      <td>5</td>\n",
       "      <td>N2_LB__</td>\n",
       "    </tr>\n",
       "    <tr>\n",
       "      <th>3</th>\n",
       "      <td>N2_LB__betA_global_0to5_1_featuresN.hdf5_4</td>\n",
       "      <td>7</td>\n",
       "      <td>3020</td>\n",
       "      <td>3.476821</td>\n",
       "      <td>5</td>\n",
       "      <td>N2_LB__</td>\n",
       "    </tr>\n",
       "    <tr>\n",
       "      <th>4</th>\n",
       "      <td>N2_LB__betA_global_0to5_1_featuresN.hdf5_5</td>\n",
       "      <td>9</td>\n",
       "      <td>4678</td>\n",
       "      <td>2.885849</td>\n",
       "      <td>5</td>\n",
       "      <td>N2_LB__</td>\n",
       "    </tr>\n",
       "  </tbody>\n",
       "</table>\n",
       "</div>"
      ],
      "text/plain": [
       "                            unique_worm_index  reorientations  path_time  \\\n",
       "0  N2_LB__betA_global_0to5_1_featuresN.hdf5_1               3       2403   \n",
       "1  N2_LB__betA_global_0to5_1_featuresN.hdf5_2               4       3104   \n",
       "2  N2_LB__betA_global_0to5_1_featuresN.hdf5_3              20       7439   \n",
       "3  N2_LB__betA_global_0to5_1_featuresN.hdf5_4               7       3020   \n",
       "4  N2_LB__betA_global_0to5_1_featuresN.hdf5_5               9       4678   \n",
       "\n",
       "   reorientations_per_min video_timepoint   Strain  \n",
       "0                1.872659               5  N2_LB__  \n",
       "1                1.932990               5  N2_LB__  \n",
       "2                4.032800               5  N2_LB__  \n",
       "3                3.476821               5  N2_LB__  \n",
       "4                2.885849               5  N2_LB__  "
      ]
     },
     "execution_count": 28,
     "metadata": {},
     "output_type": "execute_result"
    }
   ],
   "source": [
    "#create new column 'video_timepoint' using the function above\n",
    "curv_data['video_timepoint'] = curv_data.apply(f, axis=1)\n",
    "\n",
    "Strains = []\n",
    "for name in curv_data['unique_worm_index']:\n",
    "    Strain = name[0:7]\n",
    "    Strains.append(Strain)\n",
    "\n",
    "curv_data['Strain'] = Strains\n",
    "curv_data.head()"
   ]
  },
  {
   "cell_type": "code",
   "execution_count": 229,
   "metadata": {},
   "outputs": [],
   "source": [
    "#select an optional filter\n",
    "#curv_data_filtered = curv_data_filtered.loc[curv_data_filtered['path_time'] > (25*120)]"
   ]
  },
  {
   "cell_type": "code",
   "execution_count": 30,
   "metadata": {},
   "outputs": [
    {
     "data": {
      "image/png": "[encoded data removed]",
      "text/plain": [
       "<Figure size 576x576 with 1 Axes>"
      ]
     },
     "metadata": {
      "needs_background": "light"
     },
     "output_type": "display_data"
    }
   ],
   "source": [
    "plt.figure(figsize=(8, 8))\n",
    "#plt.ylim(0,25)\n",
    "ax = sns.boxplot(x=\"Strain\", y=\"reorientations_per_min\", data=curv_data, hue='video_timepoint')"
   ]
  },
  {
   "cell_type": "code",
   "execution_count": 250,
   "metadata": {},
   "outputs": [],
   "source": [
    "#export data to .csv\n",
    "curv_data.to_csv(r'export_path.csv')"
   ]
  }
 ],
 "metadata": {
  "colab": {
   "authorship_tag": "ABX9TyM2yNrWslQbW4bqjqULEUXA",
   "collapsed_sections": [],
   "name": "global_working_angularvel.ipynb",
   "provenance": [
    {
     "file_id": "135lBNaSEM5TtPFi-dIdBbwu_SfZ6UeH6",
     "timestamp": 1634565599389
    },
    {
     "file_id": "1P0Yz-7plXuqGwFPh3-hPqhEFS1LT8Dvi",
     "timestamp": 1632213237158
    }
   ]
  },
  "kernelspec": {
   "display_name": "Python 3.8.8",
   "language": "python",
   "name": "python3"
  },
  "language_info": {
   "codemirror_mode": {
    "name": "ipython",
    "version": 3
   },
   "file_extension": ".py",
   "mimetype": "text/x-python",
   "name": "python",
   "nbconvert_exporter": "python",
   "pygments_lexer": "ipython3",
   "version": "3.8.8"
  },
  "vscode": {
   "interpreter": {
    "hash": "ad2bdc8ecc057115af97d19610ffacc2b4e99fae6737bb82f5d7fb13d2f2c186"
   }
  }
 },
 "nbformat": 4,
 "nbformat_minor": 1
}
