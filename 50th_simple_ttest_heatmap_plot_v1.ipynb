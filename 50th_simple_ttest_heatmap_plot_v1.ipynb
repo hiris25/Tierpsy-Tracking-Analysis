{
  "nbformat": 4,
  "nbformat_minor": 0,
  "metadata": {
    "colab": {
      "name": "50th-simple-ttest-heatmap-plot.ipynb",
      "provenance": [],
      "collapsed_sections": [
        "bYoI2nRPyXPC"
      ],
      "include_colab_link": true
    },
    "kernelspec": {
      "name": "python3",
      "display_name": "Python 3"
    }
  },
  "cells": [
    {
      "cell_type": "markdown",
      "metadata": {
        "id": "view-in-github",
        "colab_type": "text"
      },
      "source": [
        "<a href=\"https://colab.research.google.com/github/hiris25/Tierpsy-Tracking-Analysis/blob/main/50th_simple_ttest_heatmap_plot_v1.ipynb\" target=\"_parent\"><img src=\"https://colab.research.google.com/assets/colab-badge.svg\" alt=\"Open In Colab\"/></a>"
      ]
    },
    {
      "cell_type": "markdown",
      "metadata": {
        "id": "ZY9lplXfTzuk"
      },
      "source": [
        " # Two Variable Tracking Feature Analysis Pipeline"
      ]
    },
    {
      "cell_type": "markdown",
      "metadata": {
        "id": "YNN5_QrVRhba"
      },
      "source": [
        "## **Read in and prepare data**"
      ]
    },
    {
      "cell_type": "code",
      "metadata": {
        "id": "zwxTKQdzRgug"
      },
      "source": [
        "import pandas as pd\n",
        "import matplotlib.pyplot as plt\n",
        "import numpy as np\n",
        "import seaborn as sns\n",
        "import scipy as scipy \n",
        "from scipy import stats\n",
        "from scipy.stats import ttest_ind\n",
        "\n",
        "%config InlineBackend.figure_format = 'retina'"
      ],
      "execution_count": null,
      "outputs": []
    },
    {
      "cell_type": "markdown",
      "metadata": {
        "id": "VjTLkeiYSh1r"
      },
      "source": [
        "read in file containing all genotypes, with the first coloumn the genotype, second column n number for that genotype, other coloums are features\n",
        "\n",
        "**Here you need to change the directory of your source .csv file.**\n"
      ]
    },
    {
      "cell_type": "code",
      "metadata": {
        "id": "W6M7f3V0Rz7M"
      },
      "source": [
        "df = pd.read_csv('filelocation/filename.csv')"
      ],
      "execution_count": null,
      "outputs": []
    },
    {
      "cell_type": "markdown",
      "metadata": {
        "id": "WKICPwSHw-0E"
      },
      "source": [
        "###For single worm tracking keep only 50th percentile and remove derivatives"
      ]
    },
    {
      "cell_type": "markdown",
      "metadata": {
        "id": "SBu91x_UNrtl"
      },
      "source": [
        "We only really need to consider the 50th percentile value as these are single worms not multiple worms (ie. each row is one worm)\n",
        "So at this point maybe we can make a new df with only 50th percenticle, no derivatives and add back genotype and any other variables.\n",
        "\n",
        "To add additional coloums back to the new df, unhash the line\n",
        "\n",
        "df2['variable'] = df['variable']\n",
        "\n",
        "and replace 'varible' with the name of your coloumn"
      ]
    },
    {
      "cell_type": "code",
      "metadata": {
        "id": "47Z9IDqrSV96"
      },
      "source": [
        "df2 = df.filter(regex='_50th', axis=1)\n",
        "\n",
        "df2['genotype'] = df['genotype']\n",
        "\n",
        "unwanted = df2.columns[df2.columns.str.startswith('d_')]\n",
        "\n",
        "df3 = df2.drop(unwanted, axis=1)\n",
        "\n",
        "unwanted2 = df3.columns[df3.columns.str.contains('_std_')]\n",
        "\n",
        "df50 = df3.drop(unwanted2, axis=1)\n",
        "\n",
        "df50.head()"
      ],
      "execution_count": null,
      "outputs": []
    },
    {
      "cell_type": "markdown",
      "metadata": {
        "id": "389X-2O_IPI8"
      },
      "source": [
        "##Calculate significantly different features"
      ]
    },
    {
      "cell_type": "markdown",
      "metadata": {
        "id": "dzyi4_AVLABm"
      },
      "source": [
        "Here we are doing multiple t-tests for two groups which are defined as group1 and group2. \n",
        "\n",
        "**Change 'N2' and 'genotype' to the genotypes or conditions you want to compare before running**\n",
        "\n",
        "*For each new analysis in the same dataset run a new ttest*"
      ]
    },
    {
      "cell_type": "code",
      "metadata": {
        "id": "6VRNNus6SBR6"
      },
      "source": [
        "# get a list of all columns in the dataframe without the Group column\n",
        "column_list = [x for x in df50.columns if x != 'genotype'] #tyrmaine yes no??\n",
        "# create an empty dictionary\n",
        "t_test_results = {}\n",
        "# loop over column_list and execute code explained above\n",
        "for column in column_list:\n",
        "    group1 = df50.where(df50.genotype== 'nameofstrain1').dropna(how='all')[column]\n",
        "    group2 = df50.where(df50.genotype== 'nameofstrain2').dropna(how='all')[column]\n",
        "    # add the output to the dictionary \n",
        "    t_test_results[column] = scipy.stats.ttest_ind(group1,group2)\n",
        "results_df = pd.DataFrame.from_dict(t_test_results,orient='Index')\n",
        "results_df.columns = ['t-statistic','pvalue']"
      ],
      "execution_count": null,
      "outputs": []
    },
    {
      "cell_type": "markdown",
      "metadata": {
        "id": "KgaFdscNMh1x"
      },
      "source": [
        "This tells you the number of features that were analysed, if this number is much lower than 592 then there might be a lot of missing data"
      ]
    },
    {
      "cell_type": "code",
      "metadata": {
        "id": "decvTLaV3FcI",
        "colab": {
          "base_uri": "https://localhost:8080/"
        },
        "outputId": "a5dc8bdd-a7ce-4c67-ec56-d823ee6596a1"
      },
      "source": [
        "results_df.shape"
      ],
      "execution_count": null,
      "outputs": [
        {
          "output_type": "execute_result",
          "data": {
            "text/plain": [
              "(542, 2)"
            ]
          },
          "metadata": {
            "tags": []
          },
          "execution_count": 50
        }
      ]
    },
    {
      "cell_type": "markdown",
      "metadata": {
        "id": "sEH7KwfxMfMf"
      },
      "source": [
        "This tells you the number of significant features p<0.05"
      ]
    },
    {
      "cell_type": "code",
      "metadata": {
        "id": "aCJryvYIIVWX",
        "colab": {
          "base_uri": "https://localhost:8080/"
        },
        "outputId": "15c7b435-d6cb-41e5-8697-a8df131e9bd6"
      },
      "source": [
        "dfsg = results_df[results_df.pvalue <= 0.05]\n",
        "\n",
        "dfsg.shape"
      ],
      "execution_count": null,
      "outputs": [
        {
          "output_type": "execute_result",
          "data": {
            "text/plain": [
              "(10, 2)"
            ]
          },
          "metadata": {
            "tags": []
          },
          "execution_count": 51
        }
      ]
    },
    {
      "cell_type": "markdown",
      "metadata": {
        "id": "ZGH1Pc56Mbk-"
      },
      "source": [
        "This sorts the values by pvalue and shows you the top 25\n",
        "if you want to see more change 25 to whichever number of top features you'd like to see"
      ]
    },
    {
      "cell_type": "code",
      "metadata": {
        "id": "r6mSmIBt_Y35"
      },
      "source": [
        "dfsort = dfsg.sort_values(by=['pvalue'])\n",
        "\n",
        "dfsort.head(25)"
      ],
      "execution_count": null,
      "outputs": []
    },
    {
      "cell_type": "markdown",
      "metadata": {
        "id": "23Y40eUGDa1D"
      },
      "source": [
        "###Export data into csv and save file"
      ]
    },
    {
      "cell_type": "markdown",
      "metadata": {
        "id": "UvAmd1efKhZl"
      },
      "source": [
        "Export significant results into a new .csv file\n",
        "\n",
        "**Change the name of the file to match the analysis before running** \n",
        "\n",
        "If you want to export all the P value results then change 'dfsort' to 'results_df'"
      ]
    },
    {
      "cell_type": "code",
      "metadata": {
        "id": "ijWOLqGlDZe2"
      },
      "source": [
        "results_df.to_csv(r'filelocation/filename.csv')"
      ],
      "execution_count": null,
      "outputs": []
    },
    {
      "cell_type": "markdown",
      "metadata": {
        "id": "Hn443EfMaYQ1"
      },
      "source": [
        "##Generate heatmap of all analysed genotypes"
      ]
    },
    {
      "cell_type": "markdown",
      "metadata": {
        "id": "oku3Yre4agOO"
      },
      "source": [
        "Here we will make a heatmap that indicates p-value vs N2 for each feature and each analysed genotype. \n",
        "\n",
        "This can be useful if you want to show overall similarity/difference between your strains."
      ]
    },
    {
      "cell_type": "markdown",
      "metadata": {
        "id": "wIDtTOvbbPAW"
      },
      "source": [
        "First we need to create a dataframe with all the features in rows and each coloumn represents p-value vs N2. \n",
        "\n",
        "Before this point you should have run all the analyses that you want and exported as .csv files\n",
        "\n",
        "**Here you need to read in all the anlyses that you've carried out and change the coloumn name to the correct genotype**"
      ]
    },
    {
      "cell_type": "code",
      "metadata": {
        "id": "sHoP1DE0chBT"
      },
      "source": [
        "df1 = pd.read_csv('filelocation/filename.csv', index_col = 0)\n",
        "df1 = df1.rename(columns={df1.columns[1]: \"nameofstrain1\"})\n",
        "\n",
        "df2 = pd.read_csv('filelocation/filename.csv', index_col = 0)\n",
        "df2 = df2.rename(columns={df2.columns[1]: \"nameofstrain2\"})\n",
        "\n",
        "df3 = pd.read_csv('filelocation/filename.csv', index_col = 0)\n",
        "df3 = df3.rename(columns={df3.columns[1]: \"nameofstrain3\"})\n",
        "\n",
        "df4 = pd.read_csv('filelocation/filename.csv', index_col = 0)\n",
        "df4 = df4.rename(columns={df4.columns[1]: \"nameofstrain4\"})\n",
        "\n",
        "df5 = pd.read_csv('filelocation/filename.csv', index_col = 0)\n",
        "df5 = df5.rename(columns={df5.columns[1]: \"nameofstrain5\"})\n"
      ],
      "execution_count": null,
      "outputs": []
    },
    {
      "cell_type": "code",
      "metadata": {
        "id": "cEioNjd9bW8h"
      },
      "source": [
        "dfpvalues = pd.concat([df1, df2, df3, df4, df5], axis=1)\n",
        "\n",
        "unwanted3 = dfpvalues.columns[dfpvalues.columns.str.contains('t')]\n",
        "\n",
        "dfpvalues = dfpvalues.drop(unwanted3, axis=1)\n",
        "\n",
        "dfpvalues.head()"
      ],
      "execution_count": null,
      "outputs": []
    },
    {
      "cell_type": "markdown",
      "metadata": {
        "id": "xIPInNKqb1w3"
      },
      "source": [
        "Generating heatmap"
      ]
    },
    {
      "cell_type": "code",
      "metadata": {
        "id": "9Doqyybvauno"
      },
      "source": [
        "cmap = sns.cubehelix_palette(8, reverse=True, as_cmap=True)\n",
        "\n",
        "plt.figure(figsize=(10,15))\n",
        "ax = sns.heatmap(dfpvalues, yticklabels=10, vmin=0, vmax=0.05, cmap=cmap)"
      ],
      "execution_count": null,
      "outputs": []
    },
    {
      "cell_type": "markdown",
      "metadata": {
        "id": "YFIWoibEEB6S"
      },
      "source": [
        "##Plot interesting features"
      ]
    },
    {
      "cell_type": "markdown",
      "metadata": {
        "id": "NGmrOezHZThS"
      },
      "source": [
        "Get a list of the significant features which can be used to query the original dataset and return the raw values for plotting.\n",
        "\n",
        "Here  you should also add back the genotype and other varible coloumns."
      ]
    },
    {
      "cell_type": "code",
      "metadata": {
        "id": "JoVdSv4GZS0p"
      },
      "source": [
        "features = dfsort.index.values\n",
        "\n",
        "listfeat = list(features)\n",
        "\n",
        "listfeat.append('genotype')\n",
        "\n",
        "listfeat"
      ],
      "execution_count": null,
      "outputs": []
    },
    {
      "cell_type": "markdown",
      "metadata": {
        "id": "KpY5xrmKa74B"
      },
      "source": [
        "Using the list created above we can select our features of interest from the whole dataset, **which can then be exported as a .csv if the line is unhashed.**"
      ]
    },
    {
      "cell_type": "code",
      "metadata": {
        "id": "uu0dMA0nae2p"
      },
      "source": [
        "dfintersting = df50[listfeat]\n",
        "\n",
        "#dfintersting.to_csv(r'filelocation/filename.csv')\n",
        "\n",
        "dfintersting.head()"
      ],
      "execution_count": null,
      "outputs": []
    },
    {
      "cell_type": "markdown",
      "metadata": {
        "id": "MTWbIIu534Dc"
      },
      "source": [
        "Here we can plot a simple violin plot of one feature across all the genotypes.\n",
        "\n",
        "**Change feature name to the feature of interest**\n",
        "\n",
        "Delete hue=\"genotype\" if you do not want a legened"
      ]
    },
    {
      "cell_type": "code",
      "metadata": {
        "id": "85Z3nN2f9-2z"
      },
      "source": [
        "ax = sns.violinplot(x='genotype', y=\"feature\", hue=\"genotype\", data=df50, palette=\"colorblind\")"
      ],
      "execution_count": null,
      "outputs": []
    },
    {
      "cell_type": "code",
      "metadata": {
        "id": "53XqJq7F6jPE"
      },
      "source": [
        "cx = sns.barplot(x=\"genotype\", y=\"feature\", hue=\"genotype\", data=df50, palette=\"colorblind\", ci=68)"
      ],
      "execution_count": null,
      "outputs": []
    }
  ]
}