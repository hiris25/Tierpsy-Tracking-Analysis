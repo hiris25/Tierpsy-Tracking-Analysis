{
  "nbformat": 4,
  "nbformat_minor": 0,
  "metadata": {
    "colab": {
      "name": "Timeseries_v1.ipynb",
      "provenance": [],
      "collapsed_sections": [],
      "authorship_tag": "ABX9TyN4RndkulS4SPZ200myl7qh",
      "include_colab_link": true
    },
    "kernelspec": {
      "name": "python3",
      "display_name": "Python 3"
    },
    "language_info": {
      "name": "python"
    }
  },
  "cells": [
    {
      "cell_type": "markdown",
      "metadata": {
        "id": "view-in-github",
        "colab_type": "text"
      },
      "source": [
        "<a href=\"https://colab.research.google.com/github/hiris25/Tierpsy-Tracking-Analysis/blob/main/Timeseries_v1.ipynb\" target=\"_parent\"><img src=\"https://colab.research.google.com/assets/colab-badge.svg\" alt=\"Open In Colab\"/></a>"
      ]
    },
    {
      "cell_type": "markdown",
      "metadata": {
        "id": "8Wnv4ofBj1bg"
      },
      "source": [
        "# Time series analysis\n",
        "This script aligns time series to a stimulus/event using a munually produced list of trajectory IDs and event time stamps."
      ]
    },
    {
      "cell_type": "code",
      "metadata": {
        "id": "_N3Mi0wKy1aG"
      },
      "source": [
        "import h5py\n",
        "import numpy as np\n",
        "import pandas as pd\n",
        "from pathlib import Path\n",
        "import seaborn as sns"
      ],
      "execution_count": null,
      "outputs": []
    },
    {
      "cell_type": "markdown",
      "metadata": {
        "id": "IfPEwp678wDW"
      },
      "source": [
        "### Import files"
      ]
    },
    {
      "cell_type": "code",
      "metadata": {
        "id": "xQbBcvym9TNO"
      },
      "source": [
        "#import times\n",
        "times = pd.read_csv('your events.csv')\n",
        "\n",
        "#Import all HDF5 files from onestrain (folder) into one variableand extract tables from them one by one. Be careful to be in the filepath, add r'C: to file paths if run in Windows\n",
        "datafolder = Path('folder') \n",
        "# this structure allows you to not have to change the rest of the paths in the code, it adapts them to Windows and Mac\n",
        "\n",
        "Strain1 = sorted(list(datafolder.glob('*_featuresN.hdf5')))\n",
        "#import all HDF5 FeaturesN files for interesting strain sorted in alphabetical order"
      ],
      "execution_count": null,
      "outputs": []
    },
    {
      "cell_type": "code",
      "metadata": {
        "id": "jZnRYINd99iY"
      },
      "source": [
        "#Select timeseries data from files, adding all files from different videos for the same strain onto the same dataframe. To speed this part and avoid having to repeat the code I could create a def function and use map to apply it over the two Strain folders\n",
        "\n",
        "Strain1_feat = pd.DataFrame() #dataframe to store information \n",
        "temporary1 = []                                                                                                                                                                                                                                                                                                                                                                                                                                                                                                                                                                                                                                                                                                                                                                                                                                                                                                                                                                                                                                                                                                                                                                                                                                                                                                                                                                                                                                                                                                                                                                                                                                                                                                                                                                                                                                                                                                                                                                                                                                                                                                                                                                                                                                                                                                                                                                                                                                                                                                                                                                                                                                                                                                                                                                                                                                                                                                                                                                                                                                                                                                                                                                                                                                                                                                                                                                                                                                                                                                                                                                                                                                                                                                                                                                                                                                                                                               \n",
        "\n",
        "for iteration, i in enumerate(Strain1): \n",
        "    data = pd.read_hdf(i, 'timeseries_data') #select all timeseries_data tables from the hdf5 documents in the folder\n",
        "    data = data.assign(Video = iteration)\n",
        "    data = data.assign(File = i)\n",
        "    temporary1.append(data) #append all data\n",
        "Strain1_feat = pd.concat(temporary1, ignore_index = True) #concatenate next to each other all the tables for all the files in the folder"
      ],
      "execution_count": null,
      "outputs": []
    },
    {
      "cell_type": "code",
      "metadata": {
        "id": "72tP9FrvDPfi"
      },
      "source": [
        "#keep only speed (or any other feature(s) you want)\n",
        "\n",
        "Strain1_feat_speed = pd.DataFrame()\n",
        "\n",
        "Strain1_feat_speed['speed'] = Strain1_feat['speed']\n",
        "\n",
        "#keep optional extra features\n",
        "Strain1_feat_speed['speed_head_tip'] = Strain1_feat['speed_head_tip']\n",
        "Strain1_feat_speed['relative_to_neck_radial_velocity_head_tip'] = Strain1_feat['relative_to_neck_radial_velocity_head_tip']\n",
        "Strain1_feat_speed['relative_to_head_base_radial_velocity_head_tip'] = Strain1_feat['relative_to_head_base_radial_velocity_head_tip']\n",
        "Strain1_feat_speed['angular_velocity_head_tip'] = Strain1_feat['angular_velocity_head_tip']\n",
        "Strain1_feat_speed['relative_to_neck_angular_velocity_head_tip'] = Strain1_feat['relative_to_neck_angular_velocity_head_tip']\n",
        "\n",
        "#keep important features\n",
        "Strain1_feat_speed['Video'] = Strain1_feat['Video']\n",
        "Strain1_feat_speed['worm_index'] = Strain1_feat['worm_index']\n",
        "Strain1_feat_speed['timestamp'] = Strain1_feat['timestamp']\n",
        "Strain1_feat_speed['File'] = Strain1_feat['File']\n",
        "\n",
        "Strain1_feat_speed = Strain1_feat_speed.astype('int64', errors='ignore')"
      ],
      "execution_count": null,
      "outputs": []
    },
    {
      "cell_type": "markdown",
      "metadata": {
        "id": "WVLlCJgqkxyy"
      },
      "source": [
        "videos are given ID's starting at 0, label the video number with the correct strain, videos should be in the alphabetical order that they appeared in the folder, DOUBLE CHECK THIS IS CORRECT before continuing"
      ]
    },
    {
      "cell_type": "code",
      "metadata": {
        "id": "9yeyMbj10TOI"
      },
      "source": [
        "#create strain dictionary \n",
        "genotypes = {0:'N2', 1:'N2', 2:'strain1', 3:'strain2', 4:'strain2', 5:'strain2', 6:'strain2', 7:'strain2', 8:'strain2', 9:'strain2', 10:'strain2'}\n",
        "#map dictionary onto df\n",
        "Strain1_feat_speed['strain'] = Strain1_feat_speed['Video'].map(genotypes)"
      ],
      "execution_count": null,
      "outputs": []
    },
    {
      "cell_type": "code",
      "metadata": {
        "id": "oot7ubb7r4Xj"
      },
      "source": [
        "times = times.drop(columns=['strain'])"
      ],
      "execution_count": null,
      "outputs": []
    },
    {
      "cell_type": "markdown",
      "metadata": {
        "id": "z-yBK5Co8z-x"
      },
      "source": [
        "### Merge encounters"
      ]
    },
    {
      "cell_type": "code",
      "metadata": {
        "id": "KYdaHON46fdg"
      },
      "source": [
        "encounters = pd.merge(Strain1_feat_speed, times, how=\"left\", on=[\"Video\", \"timestamp\", \"worm_index\"])\n",
        "\n",
        "#check that encounter frames have been found\n",
        "encounters['encounter'].value_counts()"
      ],
      "execution_count": null,
      "outputs": []
    },
    {
      "cell_type": "code",
      "metadata": {
        "id": "d2mTxi5Ijlqg"
      },
      "source": [
        "# select how long (frames) before and after you want (10fps)\n",
        "t = 90\n",
        "\n",
        "#get only row index with encounter = 1\n",
        "index = encounters.index\n",
        "condition = encounters[\"encounter\"] == 1\n",
        "excounter_indx = index[condition]\n",
        "excounter_indx_list = excounter_indx.tolist()\n",
        "\n",
        "#new df for before and after encounter\n",
        "encounters_before_after = pd.DataFrame()\n",
        "\n",
        "for i in excounter_indx_list:\n",
        "  a = encounters.iloc[i-t:i+t]\n",
        "  a.reset_index(inplace=True)\n",
        "  encounters_before_after = encounters_before_after.append(a)\n",
        "\n",
        "encounters_before_after = encounters_before_after.drop(columns = 'index')\n",
        "encounters_before_after.reset_index(inplace=True)\n",
        "encounters_before_after = encounters_before_after.rename(columns = {'index':'time_norm'})\n",
        "encounters_before_after['time_norm'] = encounters_before_after['time_norm'] - t\n",
        "\n",
        "encounters_before_after['speed_abs'] = encounters_before_after['speed'].abs()"
      ],
      "execution_count": null,
      "outputs": []
    },
    {
      "cell_type": "markdown",
      "metadata": {
        "id": "ahLrUT168lYy"
      },
      "source": [
        "### Plotting"
      ]
    },
    {
      "cell_type": "code",
      "metadata": {
        "id": "FGozHqLv4vVV"
      },
      "source": [
        "sns.lineplot(data=encounters_before_after, x='time_norm', y='speed', hue=\"worm_index\")"
      ],
      "execution_count": null,
      "outputs": []
    },
    {
      "cell_type": "code",
      "metadata": {
        "id": "_DHk7dR97c-y"
      },
      "source": [
        "sns.lineplot(data=encounters_before_after, x='time_norm', y='speed', hue='strain')"
      ],
      "execution_count": null,
      "outputs": []
    }
  ]
}